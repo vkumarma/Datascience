{
 "cells": [
  {
   "cell_type": "code",
   "execution_count": 5,
   "id": "c69c5c17-811e-4205-a9be-cb26281aa063",
   "metadata": {},
   "outputs": [],
   "source": [
    "from typing import List, Tuple, Callable\n",
    "import math\n",
    "Vector = List[float] # type annotation\n"
   ]
  },
  {
   "cell_type": "code",
   "execution_count": 6,
   "id": "f5d5daa8-12c4-4126-848d-a0836de47639",
   "metadata": {},
   "outputs": [],
   "source": [
    "def add(v: Vector, w: Vector) -> Vector:\n",
    "    \"\"\"Adds corresponding elements\"\"\"\n",
    "    assert len(v)==len(w), \"vectors must be the same length\"\n",
    "    return [v_i + w_i for v_i,w_i in zip(v,w)]"
   ]
  },
  {
   "cell_type": "code",
   "execution_count": 7,
   "id": "ab57187c-2290-439a-aca6-b02e06d0459c",
   "metadata": {},
   "outputs": [],
   "source": [
    "assert add([1,2,3],[4,5,6]) == [5,7,9]"
   ]
  },
  {
   "cell_type": "code",
   "execution_count": 8,
   "id": "81ab4f92-3206-44d5-a9c2-36560c3ce7a1",
   "metadata": {},
   "outputs": [],
   "source": [
    "def subtract(v: Vector, w: Vector) -> Vector:\n",
    "    \"\"\"Subtracts corresponding elements\"\"\"\n",
    "    assert len(v)==len(w), \"vectors must be the same length\"\n",
    "    return [v_i - w_i for v_i,w_i in zip(v,w)]"
   ]
  },
  {
   "cell_type": "code",
   "execution_count": 9,
   "id": "cca4711b-c907-40fd-8c3f-ff4df2a02a65",
   "metadata": {},
   "outputs": [
    {
     "name": "stdout",
     "output_type": "stream",
     "text": [
      "[1, 2, 3]\n"
     ]
    }
   ],
   "source": [
    "print(subtract([5,7,9],[4,5,6]))"
   ]
  },
  {
   "cell_type": "code",
   "execution_count": 10,
   "id": "257f7ea4-23ef-4e14-b55f-c5a32fd4be41",
   "metadata": {},
   "outputs": [],
   "source": [
    "def vector_sum(vectors: List[Vector]) -> Vector:\n",
    "    \"\"\"Sums all corresponding elements\"\"\"\n",
    "    assert vectors, \"no vectors provided\"\n",
    "\n",
    "    #making sure that vectors are same size\n",
    "    num_elems = len(vectors[0])\n",
    "    assert all(num_elems == len(v) for v in vectors), \"different sizes\"\n",
    "\n",
    "    # i-th element of the result is the sum of every vector[i]\n",
    "    # (vec[i] for vec in vectors) - generator expression similar to list comprehension but returns generator object that can be iterated\n",
    "    return [sum([vec[i] for vec in vectors]) for i in range(num_elems)]\n",
    "    "
   ]
  },
  {
   "cell_type": "code",
   "execution_count": 11,
   "id": "9020b79c-b30d-44ee-98f8-a9b96c8a93b1",
   "metadata": {},
   "outputs": [
    {
     "name": "stdout",
     "output_type": "stream",
     "text": [
      "[16, 20]\n"
     ]
    }
   ],
   "source": [
    "assert vector_sum([[1,2],[3,4],[5,6],[7,8]]) == [16,20]\n",
    "print(vector_sum([[1,2],[3,4],[5,6],[7,8]]))"
   ]
  },
  {
   "cell_type": "code",
   "execution_count": 12,
   "id": "52ef26e7-51fd-4ebc-b89d-126dce4a567d",
   "metadata": {},
   "outputs": [],
   "source": [
    "def scalar_multiply(c:float, v:Vector) -> Vector:\n",
    "    \"\"\"Multiplies every element by c\"\"\"\n",
    "    return [c * v_e for v_e in v]\n",
    "\n",
    "assert scalar_multiply(2, [1,2,3]) == [2,4,6]"
   ]
  },
  {
   "cell_type": "code",
   "execution_count": 13,
   "id": "c1d7a1e1-05d9-46c1-b814-740d277c942b",
   "metadata": {},
   "outputs": [],
   "source": [
    "# this function allows component wise means of list of (same-sized) vectors\n",
    "def vector_mean(vectors: List[Vector]) -> Vector:\n",
    "    \"\"\"Computes the element-wise mean\"\"\"\n",
    "    n = len(vectors)\n",
    "    return scalar_multiply(1/n, vector_sum(vectors))\n",
    "\n",
    "assert vector_mean([[1,2],[3,4],[5,6]]) == [3,4]"
   ]
  },
  {
   "cell_type": "code",
   "execution_count": 14,
   "id": "ebe9a1c0-dffc-4e50-b4d8-b39c683c2b60",
   "metadata": {},
   "outputs": [],
   "source": [
    "# Dot product - sum of two vectors component-wise product\n",
    "def dot(v:Vector, w: Vector) -> Vector:\n",
    "    \"\"\"Computes v_i * w*i + ... + v_n * w_n\"\"\"\n",
    "    assert len(v) == len(w), \"Vectors must be of same length\"\n",
    "    return sum([v_i * w_i for v_i,w_i in zip(v,w)])\n",
    "\n",
    "assert dot([1,2,3],[4,5,6]) == 32"
   ]
  },
  {
   "cell_type": "code",
   "execution_count": 15,
   "id": "f1bb05e5-adaf-405d-8b83-44720f74008e",
   "metadata": {},
   "outputs": [],
   "source": [
    "def sum_of_squares(v:Vector) -> float:\n",
    "    \"\"\"Returns v_1 * v_1 + ... + v_n * v_n\"\"\"\n",
    "    return dot(v,v)\n",
    "    \n",
    "assert sum_of_squares([1,2,3]) == 14"
   ]
  },
  {
   "cell_type": "code",
   "execution_count": 16,
   "id": "c9d9698f-d24a-4609-ba42-43dad4cff4a1",
   "metadata": {},
   "outputs": [],
   "source": [
    "# magnitude (or length) of vector\n",
    "def magnitude(v:Vector) -> float:\n",
    "    return math.sqrt(sum_of_squares(v)) \n",
    "\n",
    "assert magnitude([3,4]) == 5"
   ]
  },
  {
   "cell_type": "code",
   "execution_count": 17,
   "id": "e98def6a-0b41-45af-97af-431ed588cc6f",
   "metadata": {},
   "outputs": [
    {
     "name": "stdout",
     "output_type": "stream",
     "text": [
      "2.8284271247461903\n"
     ]
    }
   ],
   "source": [
    "# distance between two vectors\n",
    "def squared_distance(v: Vector, w: Vector) -> float:\n",
    "    \"\"\"Computes (v_1 - w_1) ** 2 + ... + (v_n - w_n) ** 2\"\"\"\n",
    "    return sum_of_squares(subtract(v,w))\n",
    "\n",
    "def distance(v:Vector, w:Vector):\n",
    "    return math.sqrt(squared_distance(v,w))\n",
    "\n",
    "print(distance([1,2],[3,4]))"
   ]
  },
  {
   "cell_type": "code",
   "execution_count": 18,
   "id": "7c83b918-03ec-496e-9e52-0f30a3864507",
   "metadata": {},
   "outputs": [],
   "source": [
    "# Matrix - two dimensional collection of numbers\n",
    "Matrix = List[List[float]]"
   ]
  },
  {
   "cell_type": "code",
   "execution_count": 19,
   "id": "21f2928f-993a-42a3-b106-e140e5bf9294",
   "metadata": {},
   "outputs": [],
   "source": [
    "def shape(A: Matrix) -> Tuple[int,int]:\n",
    "    \"\"\"Returns (# of rows of A, # cols of A)\"\"\"\n",
    "    rows = len(A)\n",
    "    cols = len(A[0]) if A else 0\n",
    "    return rows, cols\n",
    "\n",
    "assert shape([[1,2,3],[4,5,6]]) == (2,3)"
   ]
  },
  {
   "cell_type": "code",
   "execution_count": 20,
   "id": "2a13f932-7c9c-4627-bb3e-7e5fa14e67fd",
   "metadata": {},
   "outputs": [],
   "source": [
    "def get_row(A: Matrix, i:int) -> Vector:\n",
    "    \"\"\"Returns i-th row of A (as a vector)\"\"\"\n",
    "    return A[i] # i-th row"
   ]
  },
  {
   "cell_type": "code",
   "execution_count": 21,
   "id": "5f47259d-92ad-4df2-bc39-8eadfb51871a",
   "metadata": {},
   "outputs": [],
   "source": [
    "def get_column(A: Matrix, j:int) -> Vector:\n",
    "    \"\"\"Returns j-th col of A\"\"\"\n",
    "    return [A_i[j] for A_i in A]"
   ]
  },
  {
   "cell_type": "code",
   "execution_count": 40,
   "id": "6aa2eee6-6971-40f0-af02-09baf4ccb4f3",
   "metadata": {},
   "outputs": [],
   "source": [
    "def make_matrix(num_rows: int, num_cols:int,entry_fn: Callable[[int,int], float]) -> Matrix:\n",
    "    \"\"\"returns a num_rows * num_cols matrix, whose (i,j)-th entry is entry_fn(i,j)\"\"\"\n",
    "    return [[entry_fn(i,j) for j in range(num_cols)] for i in range(num_rows)]\n",
    "\n",
    "def foo(i:int,j:int) -> int:\n",
    "    if i == j: return 1\n",
    "    return 0"
   ]
  },
  {
   "cell_type": "code",
   "execution_count": 41,
   "id": "53e3fa1f-ef9c-4e4f-9a7f-40e99dd7758d",
   "metadata": {},
   "outputs": [
    {
     "name": "stdout",
     "output_type": "stream",
     "text": [
      "[[0, 1, 2, 3], [1, 2, 3, 4], [2, 3, 4, 5], [3, 4, 5, 6]]\n"
     ]
    }
   ],
   "source": [
    "print(make_matrix(4,4, lambda a,b:a+b))"
   ]
  },
  {
   "cell_type": "code",
   "execution_count": 42,
   "id": "6fe38a33-6e88-4bef-bc38-f739cb8e2e0e",
   "metadata": {},
   "outputs": [],
   "source": [
    "def identity_matrix(n:int) -> Matrix:\n",
    "    \"\"\"Returns n*n identity matrix\"\"\"\n",
    "    return make_matrix(n,n, foo)"
   ]
  },
  {
   "cell_type": "code",
   "execution_count": 43,
   "id": "5f7f3904-6147-4ac1-8037-c977f29cb4c7",
   "metadata": {},
   "outputs": [
    {
     "name": "stdout",
     "output_type": "stream",
     "text": [
      "[[1, 0, 0, 0, 0], [0, 1, 0, 0, 0], [0, 0, 1, 0, 0], [0, 0, 0, 1, 0], [0, 0, 0, 0, 1]]\n"
     ]
    }
   ],
   "source": [
    "print(identity_matrix(5))"
   ]
  },
  {
   "cell_type": "code",
   "execution_count": null,
   "id": "6a626c40-bd91-4098-a518-1f0798d9358b",
   "metadata": {},
   "outputs": [],
   "source": []
  },
  {
   "cell_type": "code",
   "execution_count": null,
   "id": "32d1e2ae-9684-429f-808a-a2d18f500c2f",
   "metadata": {},
   "outputs": [],
   "source": []
  },
  {
   "cell_type": "code",
   "execution_count": null,
   "id": "d83fc689-3339-4cb7-9603-33812deb0de5",
   "metadata": {},
   "outputs": [],
   "source": []
  }
 ],
 "metadata": {
  "kernelspec": {
   "display_name": "Python 3 (ipykernel)",
   "language": "python",
   "name": "python3"
  },
  "language_info": {
   "codemirror_mode": {
    "name": "ipython",
    "version": 3
   },
   "file_extension": ".py",
   "mimetype": "text/x-python",
   "name": "python",
   "nbconvert_exporter": "python",
   "pygments_lexer": "ipython3",
   "version": "3.9.6"
  }
 },
 "nbformat": 4,
 "nbformat_minor": 5
}
